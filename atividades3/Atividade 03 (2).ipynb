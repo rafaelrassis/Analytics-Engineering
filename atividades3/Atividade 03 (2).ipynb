{
 "cells": [
  {
   "attachments": {},
   "cell_type": "markdown",
   "id": "ebfbea4e",
   "metadata": {},
   "source": [
    "# Atividade 3\n",
    "\n",
    "Faça tudo via dbt. \n",
    "\n",
    "Envia como resposta:\n",
    "- A query SQL\n",
    "- Comando utilizado via terminal no `dbt`\n",
    "- Um print do resultado no próprio notebook, para isso é necessário criar uma pasta no repositório onde serão armazenadas as imagens, e para inserir no notebook é necessário criar uma célula `markdown` e inserir o seguinte comando: \n",
    "\n",
    "```markdown\n",
    "![Nome da Foto](path/para/imagem)\n",
    "```"
   ]
  },
  {
   "attachments": {},
   "cell_type": "markdown",
   "id": "c0c42967",
   "metadata": {},
   "source": [
    "1. Crie uma tabela `orders_by_year` a partir de `orders` que agrupa a quantidade de pedidos por ano, considerando a coluna `order_approved_at`"
   ]
  },
  {
   "attachments": {},
   "cell_type": "markdown",
   "id": "f3ea9041",
   "metadata": {},
   "source": [
    "> Query SQL:\n",
    "\n",
    "```SQL\n",
    "{{ config(materialized='table') }}\n",
    "\n",
    "   SELECT\n",
    "      extract(year from order_approved_at) as order_year,\n",
    "      count (order_id) as total\n",
    "   FROM \n",
    "      `dbt_shop.orders` \n",
    "    WHERE\n",
    "      order_approved_at IS NOT NULL\n",
    "   GROUP BY \n",
    "      order_year\n",
    "```\n",
    "\n",
    "> Print do Resultado\n",
    "\n",
    "![Resposta do exercicio 1](imagem-atividade 3/1.jpg)"
   ]
  },
  {
   "attachments": {},
   "cell_type": "markdown",
   "id": "aa520524",
   "metadata": {},
   "source": [
    "2. Crie uma `view` que agrega os totais de pedidos por estado. Considere as tabelas _customers_ para obter os estados (coluna _customer_state_) e _orders_ para contabilizar a quantidade de pedidos."
   ]
  },
  {
   "attachments": {},
   "cell_type": "markdown",
   "id": "ba9e8bed",
   "metadata": {},
   "source": [
    "> Query SQL:\n",
    "\n",
    "```SQL\n",
    "SELECT\n",
    "       customers.customer_state as order_state,\n",
    "       count(orders.order_id) as quantity_orders\n",
    "   FROM\n",
    "       `dbt_shop.orders` as orders\n",
    "   INNER JOIN\n",
    "       `dbt_shop.customers` as customers on (orders.customer_id = customers.customer_id)\n",
    "   GROUP BY\n",
    "customers.customer_state\n",
    "```\n",
    "> Print do Resultado\n",
    "\n",
    "![Resposta do exercicio 2](imagens-atividade-3/2.png)"
   ]
  },
  {
   "attachments": {},
   "cell_type": "markdown",
   "id": "54e0e5f1",
   "metadata": {},
   "source": [
    "3. De acordo com o resultado do exercício 2 retorne apenas os estados que tem mais de 5000 pedidos, esse número deve ser passado via variável `number_of_orders` do `dbt`."
   ]
  },
  {
   "attachments": {},
   "cell_type": "markdown",
   "id": "8fa73d6a",
   "metadata": {},
   "source": [
    "> Query SQL:\n",
    "\n",
    "```SQL\n",
    "SELECT * FROM\n",
    "       `dataset_rafael.2-total_orders_by_state`\n",
    "   WHERE\n",
    "       quantity_orders > CAST('{{ var(\"number_of_orders\") }}' as INT64)\n",
    "```\n",
    "> Print do Resultado\n",
    "\n",
    "![Resposta do exercicio 3](imagens-atividade-3/3.png)"
   ]
  },
  {
   "attachments": {},
   "cell_type": "markdown",
   "id": "9c3ad0cc",
   "metadata": {},
   "source": [
    "4. Crie uma `view` chamada `customers_by_region` que utiliza os dados da tabela `customers`. A visão deve realizar uma agregação por região do Brasil (Norte, Nordeste, Sudeste, Centro Oeste e Sul) e contar o número de clientes em cada uma delas."
   ]
  },
  {
   "attachments": {},
   "cell_type": "markdown",
   "id": "1d05e3d8",
   "metadata": {},
   "source": [
    "> Query SQL:\n",
    "\n",
    "```SQL\n",
    "SELECT \n",
    "       CASE\n",
    "           WHEN customer_state LIKE 'AM' THEN 'Norte'\n",
    "           WHEN customer_state LIKE 'RR' THEN 'Norte'\n",
    "           WHEN customer_state LIKE 'AP' THEN 'Norte'\n",
    "           WHEN customer_state LIKE 'PA' THEN 'Norte'\n",
    "           WHEN customer_state LIKE 'TO' THEN 'Norte'\n",
    "           WHEN customer_state LIKE 'RO' THEN 'Norte'\n",
    "           WHEN customer_state LIKE 'AC' THEN 'Norte'\n",
    "           WHEN customer_state LIKE 'RN' THEN 'Nordeste'\n",
    "           WHEN customer_state LIKE 'CE' THEN 'Nordeste'\n",
    "           WHEN customer_state LIKE 'MA' THEN 'Nordeste'\n",
    "           WHEN customer_state LIKE 'PI' THEN 'Nordeste'\n",
    "           WHEN customer_state LIKE 'PE' THEN 'Nordeste'\n",
    "           WHEN customer_state LIKE 'PB' THEN 'Nordeste'\n",
    "           WHEN customer_state LIKE 'SE' THEN 'Nordeste'\n",
    "           WHEN customer_state LIKE 'AL' THEN 'Nordeste'\n",
    "           WHEN customer_state LIKE 'BA' THEN 'Nordeste'\n",
    "           WHEN customer_state LIKE 'SP' THEN 'Sudeste'\n",
    "           WHEN customer_state LIKE 'RJ' THEN 'Sudeste'\n",
    "           WHEN customer_state LIKE 'MG' THEN 'Sudeste'\n",
    "           WHEN customer_state LIKE 'ES' THEN 'Sudeste'\n",
    "           WHEN customer_state LIKE 'MT' THEN 'Centro Oeste'\n",
    "           WHEN customer_state LIKE 'MS' THEN 'Centro Oeste'\n",
    "           WHEN customer_state LIKE 'GO' THEN 'Centro Oeste'\n",
    "           WHEN customer_state LIKE 'DF' THEN 'Centro Oeste'\n",
    "           WHEN customer_state LIKE 'PR' THEN 'Sul'\n",
    "           WHEN customer_state LIKE 'SC' THEN 'Sul'\n",
    "           WHEN customer_state LIKE 'RS' THEN 'Sul'\n",
    "       END AS region,\n",
    "       COUNT(customer_id) AS quantity_customers\n",
    "   FROM `dbt_shop.customers`\n",
    "   GROUP BY region\n",
    "```\n",
    "> Print do Resultado\n",
    "\n",
    "![Resposta do exercicio 4](imagens-atividade-3/4.png)"
   ]
  },
  {
   "attachments": {},
   "cell_type": "markdown",
   "id": "d4c16290",
   "metadata": {},
   "source": [
    "5. Crie uma tabela `items_costs` que contenha o preço total de um item (soma do valor do produto com o frete)."
   ]
  },
  {
   "attachments": {},
   "cell_type": "markdown",
   "id": "16140d44",
   "metadata": {},
   "source": [
    "> Query SQL:\n",
    "\n",
    "```SQL\n",
    "{{ config(materialized='table') }}\n",
    "\n",
    "   SELECT\n",
    "      order_id,\n",
    "      order_item_id,\n",
    "      product_id,\n",
    "      price + freight_value AS total_item_cost\n",
    "   FROM \n",
    "      `dbt_shop.items`\n",
    "```\n",
    "> Print do Resultado\n",
    "\n",
    "![Resposta do exercicio 5](imagens-atividade-3/5.png)"
   ]
  },
  {
   "attachments": {},
   "cell_type": "markdown",
   "id": "08cc4c02",
   "metadata": {},
   "source": [
    "6. Crie uma `view` com o nome `orders_shipped_costs`, você deve calcular o preço total do pedido somado com o frete, apenas para pedidos enviado (shipped)."
   ]
  },
  {
   "attachments": {},
   "cell_type": "markdown",
   "id": "6b34e153",
   "metadata": {},
   "source": [
    "> Query SQL:\n",
    "\n",
    "```SQL\n",
    "SELECT\n",
    "     orders.order_id,\n",
    "     orders.order_status,\n",
    "     SUM(items.price) + MAX(items.freight_value) as total_value\n",
    "   FROM\n",
    "     `dbt_shop.orders` as orders\n",
    "     INNER JOIN `dbt_shop.items` as items ON orders.order_id = items.order_id\n",
    "   WHERE\n",
    "     orders.order_status like \"shipped\"\n",
    "   GROUP BY\n",
    "     orders.order_id,\n",
    "     orders.order_status\n",
    "```\n",
    "> Print do Resultado\n",
    "\n",
    "![Resposta do exercicio 6](../atividades3/imagem-atividade 3/6.jpg)"
   ]
  }
 ],
 "metadata": {
  "kernelspec": {
   "display_name": "Python 3",
   "language": "python",
   "name": "python3"
  },
  "language_info": {
   "codemirror_mode": {
    "name": "ipython",
    "version": 3
   },
   "file_extension": ".py",
   "mimetype": "text/x-python",
   "name": "python",
   "nbconvert_exporter": "python",
   "pygments_lexer": "ipython3",
   "version": "3.9.1"
  }
 },
 "nbformat": 4,
 "nbformat_minor": 5
}
