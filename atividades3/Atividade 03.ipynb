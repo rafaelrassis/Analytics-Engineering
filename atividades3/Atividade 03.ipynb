{
 "cells": [
  {
   "attachments": {},
   "cell_type": "markdown",
   "id": "ebfbea4e",
   "metadata": {},
   "source": [
    "# Atividade 3\n",
    "\n",
    "Faça tudo via dbt. \n",
    "\n",
    "Envia como resposta:\n",
    "- A query SQL\n",
    "- Comando utilizado via terminal no `dbt`\n",
    "- Um print do resultado no próprio notebook, para isso é necessário criar uma pasta no repositório onde serão armazenadas as imagens, e para inserir no notebook é necessário criar uma célula `markdown` e inserir o seguinte comando: \n",
    "\n",
    "```markdown\n",
    "![Nome da Foto](path/para/imagem)\n",
    "```"
   ]
  },
  {
   "attachments": {},
   "cell_type": "markdown",
   "id": "c0c42967",
   "metadata": {},
   "source": [
    "1. Crie uma tabela `orders_by_year` a partir de `orders` que agrupa a quantidade de pedidos por ano, considerando a coluna `order_approved_at`"
   ]
  },
  {
   "attachments": {},
   "cell_type": "markdown",
   "id": "aa520524",
   "metadata": {},
   "source": [
    "2. Crie uma `view` que agrega os totais de pedidos por estado. Considere as tabelas _customers_ para obter os estados (coluna _customer_state_) e _orders_ para contabilizar a quantidade de pedidos."
   ]
  },
  {
   "attachments": {},
   "cell_type": "markdown",
   "id": "54e0e5f1",
   "metadata": {},
   "source": [
    "3. De acordo com o resultado do exercício 2 retorne apenas os estados que tem mais de 5000 pedidos, esse número deve ser passado via variável `number_of_orders` do `dbt`."
   ]
  },
  {
   "attachments": {},
   "cell_type": "markdown",
   "id": "9c3ad0cc",
   "metadata": {},
   "source": [
    "4. Crie uma `view` chamada `customers_by_region` que utiliza os dados da tabela `customers`. A visão deve realizar uma agregação por região do Brasil (Norte, Nordeste, Sudeste, Centro Oeste e Sul) e contar o número de clientes em cada uma delas."
   ]
  },
  {
   "attachments": {},
   "cell_type": "markdown",
   "id": "d4c16290",
   "metadata": {},
   "source": [
    "5. Crie uma tabela `items_costs` que contenha o preço total de um item (soma do valor do produto com o frete)."
   ]
  },
  {
   "attachments": {},
   "cell_type": "markdown",
   "id": "08cc4c02",
   "metadata": {},
   "source": [
    "6. Crie uma `view` com o nome `orders_shipped_costs`, você deve calcular o preço total do pedido somado com o frete, apenas para pedidos enviado (shipped)."
   ]
  }
 ],
 "metadata": {
  "kernelspec": {
   "display_name": "Python 3",
   "language": "python",
   "name": "python3"
  },
  "language_info": {
   "codemirror_mode": {
    "name": "ipython",
    "version": 3
   },
   "file_extension": ".py",
   "mimetype": "text/x-python",
   "name": "python",
   "nbconvert_exporter": "python",
   "pygments_lexer": "ipython3",
   "version": "3.9.1"
  }
 },
 "nbformat": 4,
 "nbformat_minor": 5
}
